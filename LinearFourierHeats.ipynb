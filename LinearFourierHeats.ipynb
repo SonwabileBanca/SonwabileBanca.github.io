{
  "nbformat": 4,
  "nbformat_minor": 0,
  "metadata": {
    "colab": {
      "provenance": [],
      "authorship_tag": "ABX9TyPRvEzVEhdY3/+QmVWb+zN+",
      "include_colab_link": true
    },
    "kernelspec": {
      "name": "python3",
      "display_name": "Python 3"
    },
    "language_info": {
      "name": "python"
    }
  },
  "cells": [
    {
      "cell_type": "markdown",
      "metadata": {
        "id": "view-in-github",
        "colab_type": "text"
      },
      "source": [
        "<a href=\"https://colab.research.google.com/github/SonwabileBanca/SonwabileBanca.github.io/blob/main/LinearFourierHeats.ipynb\" target=\"_parent\"><img src=\"https://colab.research.google.com/assets/colab-badge.svg\" alt=\"Open In Colab\"/></a>"
      ]
    },
    {
      "cell_type": "markdown",
      "source": [
        "# Hadamard-Walsh Functions:\n",
        "These functions are often used in signal processing, error correction codes, and cryptography. They form an orthogonal matrix, which means that the dot product of any two different rows or columns is zero.\n",
        "\n",
        "# Paley-Walsh Functions:\n",
        " These functions are closely related to Hadamard-Walsh functions and are often used in similar applications. They have interesting properties, such as being balanced and having good autocorrelation properties.\n",
        "By understanding the properties and applications of these functions, you can leverage their power in various fields, including signal processing, data compression, and machine learning."
      ],
      "metadata": {
        "id": "Gw8c9B1XY6cm"
      }
    },
    {
      "cell_type": "code",
      "execution_count": 18,
      "metadata": {
        "colab": {
          "base_uri": "https://localhost:8080/"
        },
        "id": "M5KjvzwhYWFm",
        "outputId": "d9d1f623-912c-4483-d699-cd71503651c6"
      },
      "outputs": [
        {
          "output_type": "stream",
          "name": "stdout",
          "text": [
            "[[ 1  1  1  1  1  1  1  1  1  1  1  1  1  1  1]\n",
            " [ 1 -1  1 -1  1 -1  1 -1  1 -1  1 -1  1 -1  1]\n",
            " [ 1  1 -1 -1  1  1 -1 -1  1  1 -1 -1  1  1 -1]\n",
            " [ 1 -1 -1  1  1 -1 -1  1  1 -1 -1  1  1 -1 -1]\n",
            " [ 1  1  1  1 -1 -1 -1 -1  1  1  1  1 -1 -1 -1]\n",
            " [ 1 -1  1 -1 -1  1 -1  1  1 -1  1 -1 -1  1 -1]\n",
            " [ 1  1 -1 -1 -1 -1  1  1  1  1 -1 -1 -1 -1  1]\n",
            " [ 1 -1 -1  1 -1  1  1 -1  1 -1 -1  1 -1  1  1]\n",
            " [ 1  1  1  1  1  1  1  1 -1 -1 -1 -1 -1 -1 -1]\n",
            " [ 1 -1  1 -1  1 -1  1 -1 -1  1 -1  1 -1  1 -1]\n",
            " [ 1  1 -1 -1  1  1 -1 -1 -1 -1  1  1 -1 -1  1]\n",
            " [ 1 -1 -1  1  1 -1 -1  1 -1  1  1 -1 -1  1  1]\n",
            " [ 1  1  1  1 -1 -1 -1 -1 -1 -1 -1 -1  1  1  1]\n",
            " [ 1 -1  1 -1 -1  1 -1  1 -1  1 -1  1  1 -1  1]\n",
            " [ 1  1 -1 -1 -1 -1  1  1 -1 -1  1  1  1  1 -1]\n",
            " [ 1 -1 -1  1 -1  1  1 -1 -1  1  1 -1  1 -1 -1]]\n"
          ]
        }
      ],
      "source": [
        "import numpy as np\n",
        "import scipy.linalg as la\n",
        "\n",
        "# A Curve written in fourier matrix\n",
        "def curve(n):\n",
        "  #Let H be a Hadamard matrix of order n\n",
        "    H = la.hadamard(n)\n",
        "    # for loop for validating the order\n",
        "    if n%2 == 0:\n",
        "        H = H[:,:-1]\n",
        "    return H\n",
        "print(curve(16))\n",
        "\n"
      ]
    },
    {
      "cell_type": "markdown",
      "source": [
        "signal = (2k + 5, 4k, 0.7k)"
      ],
      "metadata": {
        "id": "tLto-pRd_Ett"
      }
    },
    {
      "cell_type": "code",
      "source": [
        "H_16 = curve(16)\n",
        "norm = np.linalg.norm(H_16, axis=0)\n",
        "print(norm[0])\n"
      ],
      "metadata": {
        "colab": {
          "base_uri": "https://localhost:8080/"
        },
        "id": "GbSVhh2HU47j",
        "outputId": "6c6b4e9f-89c2-4347-8ed0-d6379718f06e"
      },
      "execution_count": 19,
      "outputs": [
        {
          "output_type": "stream",
          "name": "stdout",
          "text": [
            "4.0\n"
          ]
        }
      ]
    },
    {
      "cell_type": "code",
      "source": [
        "I = np.eye(16)\n",
        "print(I)"
      ],
      "metadata": {
        "colab": {
          "base_uri": "https://localhost:8080/"
        },
        "id": "gTPfJKb52VUH",
        "outputId": "4d37070f-d7e8-4662-c2f3-5f6d8e1a392e"
      },
      "execution_count": 20,
      "outputs": [
        {
          "output_type": "stream",
          "name": "stdout",
          "text": [
            "[[1. 0. 0. 0. 0. 0. 0. 0. 0. 0. 0. 0. 0. 0. 0. 0.]\n",
            " [0. 1. 0. 0. 0. 0. 0. 0. 0. 0. 0. 0. 0. 0. 0. 0.]\n",
            " [0. 0. 1. 0. 0. 0. 0. 0. 0. 0. 0. 0. 0. 0. 0. 0.]\n",
            " [0. 0. 0. 1. 0. 0. 0. 0. 0. 0. 0. 0. 0. 0. 0. 0.]\n",
            " [0. 0. 0. 0. 1. 0. 0. 0. 0. 0. 0. 0. 0. 0. 0. 0.]\n",
            " [0. 0. 0. 0. 0. 1. 0. 0. 0. 0. 0. 0. 0. 0. 0. 0.]\n",
            " [0. 0. 0. 0. 0. 0. 1. 0. 0. 0. 0. 0. 0. 0. 0. 0.]\n",
            " [0. 0. 0. 0. 0. 0. 0. 1. 0. 0. 0. 0. 0. 0. 0. 0.]\n",
            " [0. 0. 0. 0. 0. 0. 0. 0. 1. 0. 0. 0. 0. 0. 0. 0.]\n",
            " [0. 0. 0. 0. 0. 0. 0. 0. 0. 1. 0. 0. 0. 0. 0. 0.]\n",
            " [0. 0. 0. 0. 0. 0. 0. 0. 0. 0. 1. 0. 0. 0. 0. 0.]\n",
            " [0. 0. 0. 0. 0. 0. 0. 0. 0. 0. 0. 1. 0. 0. 0. 0.]\n",
            " [0. 0. 0. 0. 0. 0. 0. 0. 0. 0. 0. 0. 1. 0. 0. 0.]\n",
            " [0. 0. 0. 0. 0. 0. 0. 0. 0. 0. 0. 0. 0. 1. 0. 0.]\n",
            " [0. 0. 0. 0. 0. 0. 0. 0. 0. 0. 0. 0. 0. 0. 1. 0.]\n",
            " [0. 0. 0. 0. 0. 0. 0. 0. 0. 0. 0. 0. 0. 0. 0. 1.]]\n"
          ]
        }
      ]
    },
    {
      "cell_type": "code",
      "source": [
        "H_16.shape"
      ],
      "metadata": {
        "colab": {
          "base_uri": "https://localhost:8080/"
        },
        "id": "1xjhSBBmOA6v",
        "outputId": "003351ae-435b-413c-a58f-808f4b8eb680"
      },
      "execution_count": 21,
      "outputs": [
        {
          "output_type": "execute_result",
          "data": {
            "text/plain": [
              "(16, 15)"
            ]
          },
          "metadata": {},
          "execution_count": 21
        }
      ]
    },
    {
      "cell_type": "code",
      "source": [
        "H_16.T.shape"
      ],
      "metadata": {
        "colab": {
          "base_uri": "https://localhost:8080/"
        },
        "id": "w9HNeuVh7odK",
        "outputId": "f804f5c0-bbd9-40dc-b8a2-88f8babf3ab3"
      },
      "execution_count": 22,
      "outputs": [
        {
          "output_type": "execute_result",
          "data": {
            "text/plain": [
              "(15, 16)"
            ]
          },
          "metadata": {},
          "execution_count": 22
        }
      ]
    },
    {
      "cell_type": "code",
      "source": [
        "import seaborn as sns\n",
        "import matplotlib.pyplot as plt\n",
        "\n",
        "sns.heatmap(H_16)\n",
        "plt.show()"
      ],
      "metadata": {
        "colab": {
          "base_uri": "https://localhost:8080/",
          "height": 435
        },
        "id": "5imJtx4HI7Oh",
        "outputId": "ef0172f4-4265-460c-d79e-d04c5fa3ae4b"
      },
      "execution_count": 23,
      "outputs": [
        {
          "output_type": "display_data",
          "data": {
            "text/plain": [
              "<Figure size 640x480 with 2 Axes>"
            ],
            "image/png": "[encoded data removed]"
          },
          "metadata": {}
        }
      ]
    },
    {
      "cell_type": "markdown",
      "source": [
        "New Signal:\n",
        "\n",
        "x[i] = 2k + 5 where k = 0,1,2,...n\n",
        "\n",
        "y[i] = 4k\n",
        "\n",
        "z[i] = 0.7k"
      ],
      "metadata": {
        "id": "KXsqpfQyKRG0"
      }
    },
    {
      "cell_type": "code",
      "source": [
        "new_signal = {\n",
        "    'x': [2*k + 5 for k in range(16)],\n",
        "    'y': [4*k for k in range(16)],\n",
        "    'z': [0.7*k for k in range(16)]\n",
        "}\n"
      ],
      "metadata": {
        "id": "WR30EkmFJa1y"
      },
      "execution_count": 24,
      "outputs": []
    },
    {
      "cell_type": "code",
      "source": [
        "view_signal = np.array(list(new_signal.values()))\n",
        "print(view_signal)"
      ],
      "metadata": {
        "colab": {
          "base_uri": "https://localhost:8080/"
        },
        "id": "_DCPDLlWJs8O",
        "outputId": "f8e4c0ee-78b2-4c9b-d814-97041bdfe88f"
      },
      "execution_count": 25,
      "outputs": [
        {
          "output_type": "stream",
          "name": "stdout",
          "text": [
            "[[ 5.   7.   9.  11.  13.  15.  17.  19.  21.  23.  25.  27.  29.  31.\n",
            "  33.  35. ]\n",
            " [ 0.   4.   8.  12.  16.  20.  24.  28.  32.  36.  40.  44.  48.  52.\n",
            "  56.  60. ]\n",
            " [ 0.   0.7  1.4  2.1  2.8  3.5  4.2  4.9  5.6  6.3  7.   7.7  8.4  9.1\n",
            "   9.8 10.5]]\n"
          ]
        }
      ]
    },
    {
      "cell_type": "code",
      "source": [
        "signal_y = (view_signal[1].reshape(16,1))\n",
        "print(signal_y)"
      ],
      "metadata": {
        "colab": {
          "base_uri": "https://localhost:8080/"
        },
        "id": "vQmYe2HrJ1EU",
        "outputId": "71eba7f3-b84b-4289-e3ca-6925d4ab70a9"
      },
      "execution_count": 38,
      "outputs": [
        {
          "output_type": "stream",
          "name": "stdout",
          "text": [
            "[[ 0.]\n",
            " [ 4.]\n",
            " [ 8.]\n",
            " [12.]\n",
            " [16.]\n",
            " [20.]\n",
            " [24.]\n",
            " [28.]\n",
            " [32.]\n",
            " [36.]\n",
            " [40.]\n",
            " [44.]\n",
            " [48.]\n",
            " [52.]\n",
            " [56.]\n",
            " [60.]]\n"
          ]
        }
      ]
    },
    {
      "cell_type": "code",
      "source": [
        "signal_y.shape"
      ],
      "metadata": {
        "colab": {
          "base_uri": "https://localhost:8080/"
        },
        "id": "XfLaHMusKCp6",
        "outputId": "a3be8345-d590-4d8c-d762-ebc2972a4129"
      },
      "execution_count": 33,
      "outputs": [
        {
          "output_type": "execute_result",
          "data": {
            "text/plain": [
              "(16, 15)"
            ]
          },
          "metadata": {},
          "execution_count": 33
        }
      ]
    },
    {
      "cell_type": "code",
      "source": [
        "print(f'The signal is:\\n\\n\\n{(np.matmul(H_16.T, signal_y).T)}')"
      ],
      "metadata": {
        "colab": {
          "base_uri": "https://localhost:8080/"
        },
        "id": "eom0oNaiKH3V",
        "outputId": "26c86e0e-cfba-4262-cd20-1633110c634c"
      },
      "execution_count": 45,
      "outputs": [
        {
          "output_type": "stream",
          "name": "stdout",
          "text": [
            "The signal is:\n",
            "\n",
            "\n",
            "[[ 480.  -32.  -64.    0. -128.    0.    0.    0. -256.    0.    0.    0.\n",
            "     0.    0.    0.]]\n"
          ]
        }
      ]
    },
    {
      "cell_type": "code",
      "source": [
        "y1 = np.matmul(H_16.T, signal_y)\n",
        "print(y1[0])"
      ],
      "metadata": {
        "colab": {
          "base_uri": "https://localhost:8080/"
        },
        "id": "acsw9KF9N1xS",
        "outputId": "4fe4bc02-3ef0-4d3f-ce20-d11454ba37e3"
      },
      "execution_count": 47,
      "outputs": [
        {
          "output_type": "stream",
          "name": "stdout",
          "text": [
            "[480.]\n"
          ]
        }
      ]
    },
    {
      "cell_type": "code",
      "source": [
        "y_heat = sns.heatmap(y1)\n",
        "plt.show()"
      ],
      "metadata": {
        "colab": {
          "base_uri": "https://localhost:8080/",
          "height": 430
        },
        "id": "cK_ojw0eOPt2",
        "outputId": "4c03eaca-eb3e-4420-bea5-d298ca94dacd"
      },
      "execution_count": 48,
      "outputs": [
        {
          "output_type": "display_data",
          "data": {
            "text/plain": [
              "<Figure size 640x480 with 2 Axes>"
            ],
            "image/png": "[encoded data removed]"
          },
          "metadata": {}
        }
      ]
    },
    {
      "cell_type": "code",
      "source": [
        "signal_x = (view_signal[0].reshape(16,1))\n",
        "print(signal_x)"
      ],
      "metadata": {
        "colab": {
          "base_uri": "https://localhost:8080/"
        },
        "id": "M0WKpcEKRpvv",
        "outputId": "d75503fd-821c-447a-cd77-58289222e966"
      },
      "execution_count": 49,
      "outputs": [
        {
          "output_type": "stream",
          "name": "stdout",
          "text": [
            "[[ 5.]\n",
            " [ 7.]\n",
            " [ 9.]\n",
            " [11.]\n",
            " [13.]\n",
            " [15.]\n",
            " [17.]\n",
            " [19.]\n",
            " [21.]\n",
            " [23.]\n",
            " [25.]\n",
            " [27.]\n",
            " [29.]\n",
            " [31.]\n",
            " [33.]\n",
            " [35.]]\n"
          ]
        }
      ]
    },
    {
      "cell_type": "code",
      "source": [
        "freq_x"
      ],
      "metadata": {
        "colab": {
          "base_uri": "https://localhost:8080/"
        },
        "id": "t48XCfS0S5IK",
        "outputId": "57e2ae7d-7513-45ed-e4a1-e67619a8b619"
      },
      "execution_count": 53,
      "outputs": [
        {
          "output_type": "execute_result",
          "data": {
            "text/plain": [
              "array([[ 320.],\n",
              "       [ -16.],\n",
              "       [ -32.],\n",
              "       [   0.],\n",
              "       [ -64.],\n",
              "       [   0.],\n",
              "       [   0.],\n",
              "       [   0.],\n",
              "       [-128.],\n",
              "       [   0.],\n",
              "       [   0.],\n",
              "       [   0.],\n",
              "       [   0.],\n",
              "       [   0.],\n",
              "       [   0.]])"
            ]
          },
          "metadata": {},
          "execution_count": 53
        }
      ]
    },
    {
      "cell_type": "code",
      "source": [
        "freq_x = np.matmul(H_16.T, signal_x)\n",
        "heat_x = sns.heatmap(freq_x)\n",
        "plt.show()"
      ],
      "metadata": {
        "colab": {
          "base_uri": "https://localhost:8080/",
          "height": 430
        },
        "id": "2ZM3UK4kSp8G",
        "outputId": "c3c97b12-f3dc-48b5-9f1c-96f24eccb272"
      },
      "execution_count": 52,
      "outputs": [
        {
          "output_type": "display_data",
          "data": {
            "text/plain": [
              "<Figure size 640x480 with 2 Axes>"
            ],
            "image/png": "[encoded data removed]"
          },
          "metadata": {}
        }
      ]
    },
    {
      "cell_type": "code",
      "source": [
        "signal_z = (view_signal[2].reshape(16,1))\n",
        "freq_z = np.matmul(H_16.T, signal_z)\n",
        "heat_z = sns.heatmap(freq_z)"
      ],
      "metadata": {
        "colab": {
          "base_uri": "https://localhost:8080/",
          "height": 430
        },
        "id": "Md6eClXsS-Hu",
        "outputId": "86167c1f-becc-4fa8-b7cc-d28ecf7c5fd2"
      },
      "execution_count": 54,
      "outputs": [
        {
          "output_type": "display_data",
          "data": {
            "text/plain": [
              "<Figure size 640x480 with 2 Axes>"
            ],
            "image/png": "[encoded data removed]"
          },
          "metadata": {}
        }
      ]
    }
  ]
}
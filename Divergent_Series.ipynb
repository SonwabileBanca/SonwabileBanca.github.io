{
  "nbformat": 4,
  "nbformat_minor": 0,
  "metadata": {
    "colab": {
      "provenance": [],
      "authorship_tag": "ABX9TyM4uclFjSoJb1pkFPWcotaf",
      "include_colab_link": true
    },
    "kernelspec": {
      "name": "python3",
      "display_name": "Python 3"
    },
    "language_info": {
      "name": "python"
    }
  },
  "cells": [
    {
      "cell_type": "markdown",
      "metadata": {
        "id": "view-in-github",
        "colab_type": "text"
      },
      "source": [
        "<a href=\"https://colab.research.google.com/github/SonwabileBanca/SonwabileBanca.github.io/blob/main/Divergent_Series.ipynb\" target=\"_parent\"><img src=\"https://colab.research.google.com/assets/colab-badge.svg\" alt=\"Open In Colab\"/></a>"
      ]
    },
    {
      "cell_type": "markdown",
      "source": [
        "Sonwabile Banca\n",
        "\n",
        "Partial Sums\n",
        "\n",
        "Information\n"
      ],
      "metadata": {
        "id": "0V-Q9iFJpPgm"
      }
    },
    {
      "cell_type": "markdown",
      "source": [
        "Time Series Data:\n",
        "\n",
        "Time series data is a sequence of observations collected over time, typically at equally spaced intervals.\n",
        "\n",
        "Partial Sums:\n",
        "\n",
        "Partial sums are obtained by summing up a subset of terms in a sequence.\n",
        "\n",
        "Cumulative Sum (Cumulative Summation):\n",
        "\n",
        "Cumulative sum at time\n",
        "t is the sum of all observations up to time\n",
        "t.\n",
        "It's another term for partial sums in the context of time series analysis."
      ],
      "metadata": {
        "id": "AYeZxFU1qRjF"
      }
    },
    {
      "cell_type": "markdown",
      "source": [
        "To define a function that calculates an elliptic curve primary proving, we need to break down the process into steps. Elliptic curve cryptography involves operations such as point addition, point doubling, scalar multiplication, etc. A primary proving typically involves demonstrating knowledge of a secret scalar without revealing it. Here's a basic outline of the steps involved:\n",
        "\n",
        "Setup:\n",
        "\n",
        "Choose an elliptic curve and a base point on that curve.\n",
        "Define the order of the base point, which is a large prime number.\n",
        "Secret Generation:\n",
        "\n",
        "Generate a secret scalar (a random number) within the range of 1 to the order of the base point.\n",
        "Point Generation:\n",
        "\n",
        "Compute a public key by scalar multiplication of the base point with the secret scalar.\n",
        "Challenge Generation:\n",
        "\n",
        "Generate a challenge using the public key and possibly other information.\n",
        "Response Calculation:\n",
        "\n",
        "Compute a response based on the challenge and the secret scalar.\n",
        "Verification:\n",
        "\n",
        "Verify the response using the public key, challenge, and the computed value.\n",
        "Here's a basic Python function that implements primary proving for elliptic curve cryptography:\n"
      ],
      "metadata": {
        "id": "TF5-ZZYIW4g9"
      }
    },
    {
      "cell_type": "code",
      "source": [
        "import numpy as np\n",
        "import matplotlib as plt"
      ],
      "metadata": {
        "id": "ixPAQwhfX9CJ"
      },
      "execution_count": 4,
      "outputs": []
    },
    {
      "cell_type": "code",
      "source": [
        "\n",
        "import matplotlib.pyplot as plt\n",
        "#A divergent series is a series whose sequence of partial sums does not converge to a finite limit. In other words, the sum of the terms of the series grows without bound as more terms are added. There are various types of divergent series, and here are a few examples:\n",
        "#1. The series 1 + 1/2 + 1/3 + 1/4 + ... is divergent\n",
        "# Corrected Python function definition for divergent_series\n",
        "def divergent_series(n):\n",
        "    series = []\n",
        "    for i in range(1, n+1):\n",
        "        series.append(1/i)\n",
        "    return series\n",
        "\n",
        "#print(divergent_series(10))\n",
        "inputs = int(input(\"Enter the number of terms: \"))\n",
        "series = divergent_series(inputs)\n",
        "print(series)\n",
        "print('=====================================/n/n',\n",
        "'The sum of the series is: ', sum(series))\n",
        "print('')\n",
        "print('')\n",
        "print('')\n",
        "# Generate the divergent series\n",
        "inputs = int(input(\"Enter the number of terms: \"))\n",
        "series = divergent_series(inputs)\n",
        "\n",
        "# Create a scatter plot of the terms\n",
        "plt.figure(figsize=(8, 6))\n",
        "plt.scatter(range(1, inputs+1), series, color='blue', label='Terms')\n",
        "plt.xlabel('Seconds index')\n",
        "plt.ylabel('Height in km')\n",
        "plt.title('Divergent Series')\n",
        "plt.grid(True)\n",
        "plt.legend()\n",
        "plt.show()\n",
        "\n",
        "\n",
        "#divergent_graph(inputs)\n"
      ],
      "metadata": {
        "colab": {
          "base_uri": "https://localhost:8080/",
          "height": 706
        },
        "id": "3yxU0ZpbnAjv",
        "outputId": "d91a68f6-48eb-4a1f-9374-34b75261edd7"
      },
      "execution_count": 11,
      "outputs": [
        {
          "name": "stdout",
          "output_type": "stream",
          "text": [
            "Enter the number of terms: 14\n",
            "[1.0, 0.5, 0.3333333333333333, 0.25, 0.2, 0.16666666666666666, 0.14285714285714285, 0.125, 0.1111111111111111, 0.1, 0.09090909090909091, 0.08333333333333333, 0.07692307692307693, 0.07142857142857142]\n",
            "=====================================/n/n The sum of the series is:  3.251562326562327\n",
            "\n",
            "\n",
            "\n",
            "Enter the number of terms: 14\n"
          ]
        },
        {
          "output_type": "display_data",
          "data": {
            "text/plain": [
              "<Figure size 800x600 with 1 Axes>"
            ],
            "image/png": "[encoded data removed]"
          },
          "metadata": {}
        }
      ]
    }
  ]
}